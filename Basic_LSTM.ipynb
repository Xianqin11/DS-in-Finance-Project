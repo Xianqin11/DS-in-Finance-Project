{
 "cells": [
  {
   "cell_type": "code",
   "execution_count": 2,
   "id": "initial_id",
   "metadata": {
    "collapsed": true,
    "ExecuteTime": {
     "end_time": "2024-01-07T16:24:50.421336Z",
     "start_time": "2024-01-07T16:24:49.991231Z"
    }
   },
   "outputs": [
    {
     "ename": "ImportError",
     "evalue": "cannot import name 'keras' from 'tensorflow' (unknown location)",
     "output_type": "error",
     "traceback": [
      "\u001B[0;31m---------------------------------------------------------------------------\u001B[0m",
      "\u001B[0;31mImportError\u001B[0m                               Traceback (most recent call last)",
      "Cell \u001B[0;32mIn[2], line 9\u001B[0m\n\u001B[1;32m      7\u001B[0m \u001B[38;5;28;01mimport\u001B[39;00m \u001B[38;5;21;01mkeras\u001B[39;00m                  \u001B[38;5;66;03m# Deep learning library for tensorflow (and theano)\u001B[39;00m\n\u001B[1;32m      8\u001B[0m \u001B[38;5;28;01mimport\u001B[39;00m \u001B[38;5;21;01mtensorflow\u001B[39;00m \u001B[38;5;28;01mas\u001B[39;00m \u001B[38;5;21;01mtf\u001B[39;00m       \u001B[38;5;66;03m# machine learning library\u001B[39;00m\n\u001B[0;32m----> 9\u001B[0m \u001B[38;5;28;01mfrom\u001B[39;00m \u001B[38;5;21;01mtensorflow\u001B[39;00m \u001B[38;5;28;01mimport\u001B[39;00m keras\n\u001B[1;32m     10\u001B[0m \u001B[38;5;66;03m#import tensorflow.keras as keras\u001B[39;00m\n\u001B[1;32m     11\u001B[0m \u001B[38;5;28;01mfrom\u001B[39;00m \u001B[38;5;21;01mkeras\u001B[39;00m\u001B[38;5;21;01m.\u001B[39;00m\u001B[38;5;21;01mmodels\u001B[39;00m \u001B[38;5;28;01mimport\u001B[39;00m Model\n",
      "\u001B[0;31mImportError\u001B[0m: cannot import name 'keras' from 'tensorflow' (unknown location)"
     ]
    }
   ],
   "source": [
    "import pandas as pd\n",
    "import numpy as np\n",
    "import matplotlib.pyplot as plt\n",
    "import yfinance as yf\n",
    "from datetime import datetime\n",
    "from finta import TA          #  Common financial technical indicators implemented in Pandas\n",
    "import keras                  # Deep learning library for tensorflow (and theano)\n",
    "import tensorflow as tf       # machine learning library\n",
    "from tensorflow import keras\n",
    "#import tensorflow.keras as keras\n",
    "from keras.models import Model\n",
    "from keras.layers import Dense, Dropout, LSTM, Input, Activation, concatenate\n",
    "from keras import optimizers\n",
    "from keras.callbacks import History \n",
    "from sklearn.metrics import mean_squared_error\n",
    "import sklearn\n",
    "from sklearn.preprocessing import MinMaxScaler\n",
    "import random as python_random"
   ]
  },
  {
   "cell_type": "code",
   "execution_count": 42,
   "outputs": [
    {
     "name": "stdout",
     "output_type": "stream",
     "text": [
      "Requirement already satisfied: tensorflow in /Users/lennartmuller/anaconda3/lib/python3.11/site-packages (2.15.0)\r\n",
      "Requirement already satisfied: tensorflow-macos==2.15.0 in /Users/lennartmuller/anaconda3/lib/python3.11/site-packages (from tensorflow) (2.15.0)\r\n",
      "Collecting absl-py>=1.0.0 (from tensorflow-macos==2.15.0->tensorflow)\r\n",
      "  Obtaining dependency information for absl-py>=1.0.0 from https://files.pythonhosted.org/packages/01/e4/dc0a1dcc4e74e08d7abedab278c795eef54a224363bb18f5692f416d834f/absl_py-2.0.0-py3-none-any.whl.metadata\r\n",
      "  Downloading absl_py-2.0.0-py3-none-any.whl.metadata (2.3 kB)\r\n",
      "Collecting astunparse>=1.6.0 (from tensorflow-macos==2.15.0->tensorflow)\r\n",
      "  Downloading astunparse-1.6.3-py2.py3-none-any.whl (12 kB)\r\n",
      "Requirement already satisfied: flatbuffers>=23.5.26 in /Users/lennartmuller/anaconda3/lib/python3.11/site-packages (from tensorflow-macos==2.15.0->tensorflow) (23.5.26)\r\n",
      "Collecting gast!=0.5.0,!=0.5.1,!=0.5.2,>=0.2.1 (from tensorflow-macos==2.15.0->tensorflow)\r\n",
      "  Downloading gast-0.5.4-py3-none-any.whl (19 kB)\r\n",
      "Collecting google-pasta>=0.1.1 (from tensorflow-macos==2.15.0->tensorflow)\r\n",
      "  Downloading google_pasta-0.2.0-py3-none-any.whl (57 kB)\r\n",
      "\u001B[2K     \u001B[90m━━━━━━━━━━━━━━━━━━━━━━━━━━━━━━━━━━━━━━━━\u001B[0m \u001B[32m57.5/57.5 kB\u001B[0m \u001B[31m2.8 MB/s\u001B[0m eta \u001B[36m0:00:00\u001B[0m\r\n",
      "\u001B[?25hCollecting h5py>=2.9.0 (from tensorflow-macos==2.15.0->tensorflow)\r\n",
      "  Obtaining dependency information for h5py>=2.9.0 from https://files.pythonhosted.org/packages/8d/70/2b0b99507287f66e71a6b2e66c5ad2ec2461ef2c534668eef96c3b48eb6d/h5py-3.10.0-cp311-cp311-macosx_11_0_arm64.whl.metadata\r\n",
      "  Downloading h5py-3.10.0-cp311-cp311-macosx_11_0_arm64.whl.metadata (2.5 kB)\r\n",
      "Requirement already satisfied: libclang>=13.0.0 in /Users/lennartmuller/anaconda3/lib/python3.11/site-packages (from tensorflow-macos==2.15.0->tensorflow) (16.0.6)\r\n",
      "Requirement already satisfied: ml-dtypes~=0.2.0 in /Users/lennartmuller/anaconda3/lib/python3.11/site-packages (from tensorflow-macos==2.15.0->tensorflow) (0.2.0)\r\n",
      "Requirement already satisfied: numpy<2.0.0,>=1.23.5 in /Users/lennartmuller/anaconda3/lib/python3.11/site-packages (from tensorflow-macos==2.15.0->tensorflow) (1.23.5)\r\n",
      "Collecting opt-einsum>=2.3.2 (from tensorflow-macos==2.15.0->tensorflow)\r\n",
      "  Downloading opt_einsum-3.3.0-py3-none-any.whl (65 kB)\r\n",
      "\u001B[2K     \u001B[90m━━━━━━━━━━━━━━━━━━━━━━━━━━━━━━━━━━━━━━━━\u001B[0m \u001B[32m65.5/65.5 kB\u001B[0m \u001B[31m7.4 MB/s\u001B[0m eta \u001B[36m0:00:00\u001B[0m\r\n",
      "\u001B[?25hRequirement already satisfied: packaging in /Users/lennartmuller/anaconda3/lib/python3.11/site-packages (from tensorflow-macos==2.15.0->tensorflow) (23.1)\r\n",
      "Collecting protobuf!=4.21.0,!=4.21.1,!=4.21.2,!=4.21.3,!=4.21.4,!=4.21.5,<5.0.0dev,>=3.20.3 (from tensorflow-macos==2.15.0->tensorflow)\r\n",
      "  Obtaining dependency information for protobuf!=4.21.0,!=4.21.1,!=4.21.2,!=4.21.3,!=4.21.4,!=4.21.5,<5.0.0dev,>=3.20.3 from https://files.pythonhosted.org/packages/e6/db/7b2edc72807d45d72f9db42f3eb86ddaf37f9e55d923159b1dbfc9d835bc/protobuf-4.25.1-cp37-abi3-macosx_10_9_universal2.whl.metadata\r\n",
      "  Downloading protobuf-4.25.1-cp37-abi3-macosx_10_9_universal2.whl.metadata (541 bytes)\r\n",
      "Requirement already satisfied: setuptools in /Users/lennartmuller/anaconda3/lib/python3.11/site-packages (from tensorflow-macos==2.15.0->tensorflow) (68.0.0)\r\n",
      "Requirement already satisfied: six>=1.12.0 in /Users/lennartmuller/anaconda3/lib/python3.11/site-packages (from tensorflow-macos==2.15.0->tensorflow) (1.16.0)\r\n",
      "Collecting termcolor>=1.1.0 (from tensorflow-macos==2.15.0->tensorflow)\r\n",
      "  Obtaining dependency information for termcolor>=1.1.0 from https://files.pythonhosted.org/packages/d9/5f/8c716e47b3a50cbd7c146f45881e11d9414def768b7cd9c5e6650ec2a80a/termcolor-2.4.0-py3-none-any.whl.metadata\r\n",
      "  Downloading termcolor-2.4.0-py3-none-any.whl.metadata (6.1 kB)\r\n",
      "Requirement already satisfied: typing-extensions>=3.6.6 in /Users/lennartmuller/anaconda3/lib/python3.11/site-packages (from tensorflow-macos==2.15.0->tensorflow) (4.7.1)\r\n",
      "Collecting wrapt<1.15,>=1.11.0 (from tensorflow-macos==2.15.0->tensorflow)\r\n",
      "  Obtaining dependency information for wrapt<1.15,>=1.11.0 from https://files.pythonhosted.org/packages/6e/79/aec8185eefe20e8f49e5adeb0c2e20e016d5916d10872c17705ddac41be2/wrapt-1.14.1-cp311-cp311-macosx_11_0_arm64.whl.metadata\r\n",
      "  Downloading wrapt-1.14.1-cp311-cp311-macosx_11_0_arm64.whl.metadata (6.7 kB)\r\n",
      "Requirement already satisfied: tensorflow-io-gcs-filesystem>=0.23.1 in /Users/lennartmuller/anaconda3/lib/python3.11/site-packages (from tensorflow-macos==2.15.0->tensorflow) (0.34.0)\r\n",
      "Collecting grpcio<2.0,>=1.24.3 (from tensorflow-macos==2.15.0->tensorflow)\r\n",
      "  Obtaining dependency information for grpcio<2.0,>=1.24.3 from https://files.pythonhosted.org/packages/5c/45/8708497bc482cc7bf3779df9cf00c8e9efe1df5cd29b77e3eb060c141f84/grpcio-1.60.0-cp311-cp311-macosx_10_10_universal2.whl.metadata\r\n",
      "  Downloading grpcio-1.60.0-cp311-cp311-macosx_10_10_universal2.whl.metadata (4.0 kB)\r\n",
      "Requirement already satisfied: tensorboard<2.16,>=2.15 in /Users/lennartmuller/anaconda3/lib/python3.11/site-packages (from tensorflow-macos==2.15.0->tensorflow) (2.15.1)\r\n",
      "Requirement already satisfied: tensorflow-estimator<2.16,>=2.15.0 in /Users/lennartmuller/anaconda3/lib/python3.11/site-packages (from tensorflow-macos==2.15.0->tensorflow) (2.15.0)\r\n",
      "Requirement already satisfied: keras<2.16,>=2.15.0 in /Users/lennartmuller/anaconda3/lib/python3.11/site-packages (from tensorflow-macos==2.15.0->tensorflow) (2.15.0)\r\n",
      "Requirement already satisfied: wheel<1.0,>=0.23.0 in /Users/lennartmuller/anaconda3/lib/python3.11/site-packages (from astunparse>=1.6.0->tensorflow-macos==2.15.0->tensorflow) (0.35.1)\r\n",
      "Collecting google-auth<3,>=1.6.3 (from tensorboard<2.16,>=2.15->tensorflow-macos==2.15.0->tensorflow)\r\n",
      "  Obtaining dependency information for google-auth<3,>=1.6.3 from https://files.pythonhosted.org/packages/93/54/180b2447607fb63c10ba4bed48044b71d112ca83496f96141b65eb278e37/google_auth-2.26.1-py2.py3-none-any.whl.metadata\r\n",
      "  Downloading google_auth-2.26.1-py2.py3-none-any.whl.metadata (4.7 kB)\r\n",
      "Collecting google-auth-oauthlib<2,>=0.5 (from tensorboard<2.16,>=2.15->tensorflow-macos==2.15.0->tensorflow)\r\n",
      "  Obtaining dependency information for google-auth-oauthlib<2,>=0.5 from https://files.pythonhosted.org/packages/71/bf/9e125754d1adb3bc4bd206c4e5df756513b1d23675ac06caa471278d1f3f/google_auth_oauthlib-1.2.0-py2.py3-none-any.whl.metadata\r\n",
      "  Downloading google_auth_oauthlib-1.2.0-py2.py3-none-any.whl.metadata (2.7 kB)\r\n",
      "Collecting markdown>=2.6.8 (from tensorboard<2.16,>=2.15->tensorflow-macos==2.15.0->tensorflow)\r\n",
      "  Obtaining dependency information for markdown>=2.6.8 from https://files.pythonhosted.org/packages/70/58/2c5a654173937d9f540a4971c569b44dcd55e5424a484d954cdaeebcf79c/Markdown-3.5.1-py3-none-any.whl.metadata\r\n",
      "  Downloading Markdown-3.5.1-py3-none-any.whl.metadata (7.1 kB)\r\n",
      "Collecting protobuf!=4.21.0,!=4.21.1,!=4.21.2,!=4.21.3,!=4.21.4,!=4.21.5,<5.0.0dev,>=3.20.3 (from tensorflow-macos==2.15.0->tensorflow)\r\n",
      "  Obtaining dependency information for protobuf!=4.21.0,!=4.21.1,!=4.21.2,!=4.21.3,!=4.21.4,!=4.21.5,<5.0.0dev,>=3.20.3 from https://files.pythonhosted.org/packages/cb/d3/a164038605494d49acc4f9cda1c0bc200b96382c53edd561387263bb181d/protobuf-4.23.4-cp37-abi3-macosx_10_9_universal2.whl.metadata\r\n",
      "  Downloading protobuf-4.23.4-cp37-abi3-macosx_10_9_universal2.whl.metadata (540 bytes)\r\n",
      "Requirement already satisfied: requests<3,>=2.21.0 in /Users/lennartmuller/anaconda3/lib/python3.11/site-packages (from tensorboard<2.16,>=2.15->tensorflow-macos==2.15.0->tensorflow) (2.31.0)\r\n",
      "Collecting tensorboard-data-server<0.8.0,>=0.7.0 (from tensorboard<2.16,>=2.15->tensorflow-macos==2.15.0->tensorflow)\r\n",
      "  Obtaining dependency information for tensorboard-data-server<0.8.0,>=0.7.0 from https://files.pythonhosted.org/packages/7a/13/e503968fefabd4c6b2650af21e110aa8466fe21432cd7c43a84577a89438/tensorboard_data_server-0.7.2-py3-none-any.whl.metadata\r\n",
      "  Downloading tensorboard_data_server-0.7.2-py3-none-any.whl.metadata (1.1 kB)\r\n",
      "Collecting werkzeug>=1.0.1 (from tensorboard<2.16,>=2.15->tensorflow-macos==2.15.0->tensorflow)\r\n",
      "  Obtaining dependency information for werkzeug>=1.0.1 from https://files.pythonhosted.org/packages/c3/fc/254c3e9b5feb89ff5b9076a23218dafbc99c96ac5941e900b71206e6313b/werkzeug-3.0.1-py3-none-any.whl.metadata\r\n",
      "  Downloading werkzeug-3.0.1-py3-none-any.whl.metadata (4.1 kB)\r\n",
      "Collecting cachetools<6.0,>=2.0.0 (from google-auth<3,>=1.6.3->tensorboard<2.16,>=2.15->tensorflow-macos==2.15.0->tensorflow)\r\n",
      "  Obtaining dependency information for cachetools<6.0,>=2.0.0 from https://files.pythonhosted.org/packages/a2/91/2d843adb9fbd911e0da45fbf6f18ca89d07a087c3daa23e955584f90ebf4/cachetools-5.3.2-py3-none-any.whl.metadata\r\n",
      "  Downloading cachetools-5.3.2-py3-none-any.whl.metadata (5.2 kB)\r\n",
      "Collecting pyasn1-modules>=0.2.1 (from google-auth<3,>=1.6.3->tensorboard<2.16,>=2.15->tensorflow-macos==2.15.0->tensorflow)\r\n",
      "  Downloading pyasn1_modules-0.3.0-py2.py3-none-any.whl (181 kB)\r\n",
      "\u001B[2K     \u001B[90m━━━━━━━━━━━━━━━━━━━━━━━━━━━━━━━━━━━━━━━\u001B[0m \u001B[32m181.3/181.3 kB\u001B[0m \u001B[31m9.4 MB/s\u001B[0m eta \u001B[36m0:00:00\u001B[0m\r\n",
      "\u001B[?25hCollecting rsa<5,>=3.1.4 (from google-auth<3,>=1.6.3->tensorboard<2.16,>=2.15->tensorflow-macos==2.15.0->tensorflow)\r\n",
      "  Downloading rsa-4.9-py3-none-any.whl (34 kB)\r\n",
      "Collecting requests-oauthlib>=0.7.0 (from google-auth-oauthlib<2,>=0.5->tensorboard<2.16,>=2.15->tensorflow-macos==2.15.0->tensorflow)\r\n",
      "  Downloading requests_oauthlib-1.3.1-py2.py3-none-any.whl (23 kB)\r\n",
      "Requirement already satisfied: charset-normalizer<4,>=2 in /Users/lennartmuller/anaconda3/lib/python3.11/site-packages (from requests<3,>=2.21.0->tensorboard<2.16,>=2.15->tensorflow-macos==2.15.0->tensorflow) (2.0.4)\r\n",
      "Requirement already satisfied: idna<4,>=2.5 in /Users/lennartmuller/anaconda3/lib/python3.11/site-packages (from requests<3,>=2.21.0->tensorboard<2.16,>=2.15->tensorflow-macos==2.15.0->tensorflow) (3.4)\r\n",
      "Requirement already satisfied: urllib3<3,>=1.21.1 in /Users/lennartmuller/anaconda3/lib/python3.11/site-packages (from requests<3,>=2.21.0->tensorboard<2.16,>=2.15->tensorflow-macos==2.15.0->tensorflow) (1.26.18)\r\n",
      "Requirement already satisfied: certifi>=2017.4.17 in /Users/lennartmuller/anaconda3/lib/python3.11/site-packages (from requests<3,>=2.21.0->tensorboard<2.16,>=2.15->tensorflow-macos==2.15.0->tensorflow) (2023.11.17)\r\n",
      "Requirement already satisfied: MarkupSafe>=2.1.1 in /Users/lennartmuller/anaconda3/lib/python3.11/site-packages (from werkzeug>=1.0.1->tensorboard<2.16,>=2.15->tensorflow-macos==2.15.0->tensorflow) (2.1.3)\r\n",
      "Collecting pyasn1<0.6.0,>=0.4.6 (from pyasn1-modules>=0.2.1->google-auth<3,>=1.6.3->tensorboard<2.16,>=2.15->tensorflow-macos==2.15.0->tensorflow)\r\n",
      "  Obtaining dependency information for pyasn1<0.6.0,>=0.4.6 from https://files.pythonhosted.org/packages/d1/75/4686d2872bf2fc0b37917cbc8bbf0dd3a5cdb0990799be1b9cbf1e1eb733/pyasn1-0.5.1-py2.py3-none-any.whl.metadata\r\n",
      "  Downloading pyasn1-0.5.1-py2.py3-none-any.whl.metadata (8.6 kB)\r\n",
      "Collecting oauthlib>=3.0.0 (from requests-oauthlib>=0.7.0->google-auth-oauthlib<2,>=0.5->tensorboard<2.16,>=2.15->tensorflow-macos==2.15.0->tensorflow)\r\n",
      "  Downloading oauthlib-3.2.2-py3-none-any.whl (151 kB)\r\n",
      "\u001B[2K     \u001B[90m━━━━━━━━━━━━━━━━━━━━━━━━━━━━━━━━━━━━━━\u001B[0m \u001B[32m151.7/151.7 kB\u001B[0m \u001B[31m23.0 MB/s\u001B[0m eta \u001B[36m0:00:00\u001B[0m\r\n",
      "\u001B[?25hDownloading absl_py-2.0.0-py3-none-any.whl (130 kB)\r\n",
      "\u001B[2K   \u001B[90m━━━━━━━━━━━━━━━━━━━━━━━━━━━━━━━━━━━━━━━━\u001B[0m \u001B[32m130.2/130.2 kB\u001B[0m \u001B[31m15.3 MB/s\u001B[0m eta \u001B[36m0:00:00\u001B[0m\r\n",
      "\u001B[?25hDownloading grpcio-1.60.0-cp311-cp311-macosx_10_10_universal2.whl (9.7 MB)\r\n",
      "\u001B[2K   \u001B[90m━━━━━━━━━━━━━━━━━━━━━━━━━━━━━━━━━━━━━━━━\u001B[0m \u001B[32m9.7/9.7 MB\u001B[0m \u001B[31m28.9 MB/s\u001B[0m eta \u001B[36m0:00:00\u001B[0ma \u001B[36m0:00:01\u001B[0m\r\n",
      "\u001B[?25hDownloading h5py-3.10.0-cp311-cp311-macosx_11_0_arm64.whl (2.6 MB)\r\n",
      "\u001B[2K   \u001B[90m━━━━━━━━━━━━━━━━━━━━━━━━━━━━━━━━━━━━━━━━\u001B[0m \u001B[32m2.6/2.6 MB\u001B[0m \u001B[31m29.7 MB/s\u001B[0m eta \u001B[36m0:00:00\u001B[0ma \u001B[36m0:00:01\u001B[0m\r\n",
      "\u001B[?25hDownloading protobuf-4.23.4-cp37-abi3-macosx_10_9_universal2.whl (400 kB)\r\n",
      "\u001B[2K   \u001B[90m━━━━━━━━━━━━━━━━━━━━━━━━━━━━━━━━━━━━━━━━\u001B[0m \u001B[32m400.3/400.3 kB\u001B[0m \u001B[31m22.3 MB/s\u001B[0m eta \u001B[36m0:00:00\u001B[0m\r\n",
      "\u001B[?25hDownloading termcolor-2.4.0-py3-none-any.whl (7.7 kB)\r\n",
      "Downloading wrapt-1.14.1-cp311-cp311-macosx_11_0_arm64.whl (36 kB)\r\n",
      "Downloading google_auth-2.26.1-py2.py3-none-any.whl (186 kB)\r\n",
      "\u001B[2K   \u001B[90m━━━━━━━━━━━━━━━━━━━━━━━━━━━━━━━━━━━━━━━━\u001B[0m \u001B[32m186.4/186.4 kB\u001B[0m \u001B[31m25.5 MB/s\u001B[0m eta \u001B[36m0:00:00\u001B[0m\r\n",
      "\u001B[?25hDownloading google_auth_oauthlib-1.2.0-py2.py3-none-any.whl (24 kB)\r\n",
      "Downloading Markdown-3.5.1-py3-none-any.whl (102 kB)\r\n",
      "\u001B[2K   \u001B[90m━━━━━━━━━━━━━━━━━━━━━━━━━━━━━━━━━━━━━━━━\u001B[0m \u001B[32m102.2/102.2 kB\u001B[0m \u001B[31m17.5 MB/s\u001B[0m eta \u001B[36m0:00:00\u001B[0m\r\n",
      "\u001B[?25hDownloading tensorboard_data_server-0.7.2-py3-none-any.whl (2.4 kB)\r\n",
      "Downloading werkzeug-3.0.1-py3-none-any.whl (226 kB)\r\n",
      "\u001B[2K   \u001B[90m━━━━━━━━━━━━━━━━━━━━━━━━━━━━━━━━━━━━━━━━\u001B[0m \u001B[32m226.7/226.7 kB\u001B[0m \u001B[31m24.5 MB/s\u001B[0m eta \u001B[36m0:00:00\u001B[0m\r\n",
      "\u001B[?25hDownloading cachetools-5.3.2-py3-none-any.whl (9.3 kB)\r\n",
      "Downloading pyasn1-0.5.1-py2.py3-none-any.whl (84 kB)\r\n",
      "\u001B[2K   \u001B[90m━━━━━━━━━━━━━━━━━━━━━━━━━━━━━━━━━━━━━━━━\u001B[0m \u001B[32m84.9/84.9 kB\u001B[0m \u001B[31m14.8 MB/s\u001B[0m eta \u001B[36m0:00:00\u001B[0m\r\n",
      "\u001B[?25hInstalling collected packages: wrapt, werkzeug, termcolor, tensorboard-data-server, pyasn1, protobuf, opt-einsum, oauthlib, markdown, h5py, grpcio, google-pasta, gast, cachetools, astunparse, absl-py, rsa, requests-oauthlib, pyasn1-modules, google-auth, google-auth-oauthlib\r\n",
      "Successfully installed absl-py-2.0.0 astunparse-1.6.3 cachetools-5.3.2 gast-0.5.4 google-auth-2.26.1 google-auth-oauthlib-1.2.0 google-pasta-0.2.0 grpcio-1.60.0 h5py-3.10.0 markdown-3.5.1 oauthlib-3.2.2 opt-einsum-3.3.0 protobuf-4.23.4 pyasn1-0.5.1 pyasn1-modules-0.3.0 requests-oauthlib-1.3.1 rsa-4.9 tensorboard-data-server-0.7.2 termcolor-2.4.0 werkzeug-3.0.1 wrapt-1.14.1\r\n"
     ]
    }
   ],
   "source": [
    "! pip install tensorflow --upgrade\n",
    "#! pip install keras --upgrade"
   ],
   "metadata": {
    "collapsed": false,
    "ExecuteTime": {
     "end_time": "2024-01-06T12:24:34.231473Z",
     "start_time": "2024-01-06T12:24:28.849217Z"
    }
   },
   "id": "2f6465f6e3b9ae6e"
  },
  {
   "cell_type": "code",
   "execution_count": 1,
   "outputs": [
    {
     "name": "stdout",
     "output_type": "stream",
     "text": [
      "Name: tensorflow\r\n",
      "Version: 2.15.0\r\n",
      "Summary: TensorFlow is an open source machine learning framework for everyone.\r\n",
      "Home-page: https://www.tensorflow.org/\r\n",
      "Author: Google Inc.\r\n",
      "Author-email: packages@tensorflow.org\r\n",
      "License: Apache 2.0\r\n",
      "Location: /Users/lennartmuller/anaconda3/lib/python3.11/site-packages\r\n",
      "Requires: tensorflow-macos\r\n",
      "Required-by: \r\n",
      "Name: keras\r\n",
      "Version: 2.15.0\r\n",
      "Summary: Deep learning for humans.\r\n",
      "Home-page: https://keras.io/\r\n",
      "Author: Keras team\r\n",
      "Author-email: keras-users@googlegroups.com\r\n",
      "License: Apache 2.0\r\n",
      "Location: /Users/lennartmuller/anaconda3/lib/python3.11/site-packages\r\n",
      "Requires: \r\n",
      "Required-by: tensorflow-macos\r\n"
     ]
    }
   ],
   "source": [
    "#! pip install keras==2.15.0\n",
    "! pip show tensorflow\n",
    "! pip show keras"
   ],
   "metadata": {
    "collapsed": false,
    "ExecuteTime": {
     "end_time": "2024-01-07T16:24:42.664230Z",
     "start_time": "2024-01-07T16:24:40.870214Z"
    }
   },
   "id": "dd06a28adf56bee5"
  },
  {
   "cell_type": "code",
   "execution_count": 15,
   "outputs": [],
   "source": [
    "# CONVERT DATETIME IT TO A STRING WITH YYYY-MM-DD FORMAT (YFINANCE EXPECTS THAT FORMAT)\n",
    "start_date = datetime(2020, 12, 20).strftime('%Y-%m-%d')\n",
    "end_date = datetime(2023, 12, 20).strftime('%Y-%m-%d')"
   ],
   "metadata": {
    "collapsed": false,
    "ExecuteTime": {
     "end_time": "2024-01-06T10:33:46.469803Z",
     "start_time": "2024-01-06T10:33:46.446633Z"
    }
   },
   "id": "7af5f71ec9034165"
  },
  {
   "cell_type": "code",
   "execution_count": 10,
   "outputs": [
    {
     "name": "stdout",
     "output_type": "stream",
     "text": [
      "[*********************100%%**********************]  1 of 1 completed\n",
      "                  Open        High         Low       Close   Adj Close  \\\n",
      "Date                                                                     \n",
      "2020-12-21  125.019997  128.309998  123.449997  128.229996  126.004639   \n",
      "2020-12-22  131.610001  134.410004  129.649994  131.880005  129.591309   \n",
      "2020-12-23  132.160004  132.429993  130.779999  130.960007  128.687271   \n",
      "2020-12-24  131.320007  133.460007  131.100006  131.970001  129.679733   \n",
      "2020-12-28  133.990005  137.339996  133.509995  136.690002  134.317841   \n",
      "\n",
      "               Volume  \n",
      "Date                   \n",
      "2020-12-21  121251600  \n",
      "2020-12-22  168904800  \n",
      "2020-12-23   88223700  \n",
      "2020-12-24   54930100  \n",
      "2020-12-28  124486200  \n"
     ]
    }
   ],
   "source": [
    "stock_df = yf.download(\"AAPL\", start=start_date, end=end_date)\n",
    "print(stock_df.head())"
   ],
   "metadata": {
    "collapsed": false,
    "ExecuteTime": {
     "end_time": "2024-01-06T09:46:24.847922Z",
     "start_time": "2024-01-06T09:46:07.628311Z"
    }
   },
   "id": "e6d3cd5a2e918793"
  },
  {
   "cell_type": "code",
   "execution_count": 11,
   "outputs": [],
   "source": [
    "# On-balance volume (OBV) is a technical trading momentum indicator that uses volume flow to predict changes in stock price\n",
    "# Adding of on balance volume to dataframe\n",
    "\n",
    "def obv(stock_df):\n",
    "    # create a new empty DataFrame and then copying the 'Adj Close' column from the stock_df\n",
    "    new_df = pd.DataFrame()\n",
    "    new_df = stock_df[['Adj Close']].copy()\n",
    "\n",
    "    obv_list = [0]  # list for the stored calculated OBV values\n",
    "    accumulated_volume = 0  # accumulate the volume based on price changes\n",
    "\n",
    "    # Comparing the adjusted close price with the previous day. If the price has increased, the day's volume is added to 'accumulated_volume'. If the price has decreased, the day's volume is subtracted from 'accumulated_volume'\n",
    "    for i in range(1, len(new_df)):\n",
    "        if stock_df['Adj Close'].iloc[i] > stock_df['Adj Close'].iloc[i - 1]:  # add volume\n",
    "            accumulated_volume += stock_df['Volume'].iloc[i]\n",
    "        elif stock_df['Adj Close'].iloc[i] < stock_df['Adj Close'].iloc[i - 1]:  # subtract volume \n",
    "            accumulated_volume -= stock_df['Volume'].iloc[i]\n",
    "        obv_list.append(accumulated_volume)\n",
    "\n",
    "    new_df['OBV'] = obv_list  # Creating a new 'OBV' column in the dataframe\n",
    "\n",
    "    # Find the minimum value of the OBV and subtract it from all OBV values to normalize them (starting from zero)\n",
    "    # Then, apply a logarithmic transformation to the OBV values \n",
    "    minimum = min(new_df['OBV'])\n",
    "    new_df['OBV'] = new_df['OBV'] - minimum\n",
    "    new_df['OBV'] = (new_df['OBV'] + 1).transform(np.log)\n",
    "\n",
    "    return new_df\n",
    "\n",
    "# Note: A positive volume pressure would result in higher prices as the demand surges, and likewise a negative volume pressure would eventually result in lower prices."
   ],
   "metadata": {
    "collapsed": false,
    "ExecuteTime": {
     "end_time": "2024-01-06T09:46:59.136453Z",
     "start_time": "2024-01-06T09:46:59.012301Z"
    }
   },
   "id": "c80ee35d66f34485"
  },
  {
   "cell_type": "code",
   "execution_count": 12,
   "outputs": [],
   "source": [
    "# Adding technical indicators to dataframe --> Exponential moving average (EMA) and Bollinger Band (BB)\n",
    "\n",
    "def add_technical_indicators(new_df):\n",
    "    edited_df = pd.DataFrame()\n",
    "\n",
    "    # copying the columns of stock_df\n",
    "    edited_df['open'] = stock_df['Open']\n",
    "    edited_df['high'] = stock_df['High']\n",
    "    edited_df['low'] = stock_df['Low']\n",
    "    edited_df['close'] = stock_df['Close']\n",
    "    edited_df['volume'] = stock_df['Volume']\n",
    "\n",
    "    ema = TA.EMA(edited_df, period=20)  # Calculate the Exponential Moving Average (EMA) \n",
    "    bb = TA.BBANDS(edited_df, period=20)  # Calculate Bollinger Bands (BB)\n",
    "\n",
    "    #print(bb)  # just for debugging purposes (delete later) --> first 20 values NaN, because of period=20\n",
    "\n",
    "    # Adding EMA & BB columns to data frame\n",
    "    new_df['Exponential_moving_average'] = ema.copy()\n",
    "    new_df = pd.concat([new_df, bb], axis=1)\n",
    "\n",
    "    for i in range(len(new_df)):\n",
    "        new_df['BB_MIDDLE'].iloc[i] = new_df['Exponential_moving_average'].iloc[i]\n",
    "\n",
    "    if i != 0:\n",
    "        higher = new_df['BB_MIDDLE'].iloc[i] + 2 * new_df['Adj Close'].rolling(i + 1).std().iloc[i]\n",
    "        lower = new_df['BB_MIDDLE'].iloc[i] - 2 * new_df['Adj Close'].rolling(i + 1).std().iloc[i]\n",
    "        new_df['BB_UPPER'].iloc[i] = higher\n",
    "        new_df['BB_LOWER'].iloc[i] = lower\n",
    "    else:\n",
    "        new_df['BB_UPPER'].iloc[i] = new_df['BB_MIDDLE'].iloc[i]\n",
    "        new_df['BB_LOWER'].iloc[i] = new_df['BB_MIDDLE'].iloc[i]\n",
    "    return new_df\n"
   ],
   "metadata": {
    "collapsed": false,
    "ExecuteTime": {
     "end_time": "2024-01-06T09:47:03.903851Z",
     "start_time": "2024-01-06T09:47:03.885180Z"
    }
   },
   "id": "378a76523d89672d"
  },
  {
   "cell_type": "code",
   "execution_count": 13,
   "outputs": [
    {
     "data": {
      "text/plain": "             Adj Close        OBV  Exponential_moving_average    BB_UPPER  \\\nDate                                                                        \n2020-12-21  126.004639  21.020569                  128.229996         NaN   \n2020-12-22  129.591309  21.138766                  130.146251         NaN   \n2020-12-23  128.687271  21.078773                  130.445057         NaN   \n2020-12-24  129.679733  21.116547                  130.885285         NaN   \n2020-12-28  134.317841  21.197212                  132.289397         NaN   \n...                ...        ...                         ...         ...   \n2023-12-13  197.960007  21.432689                  190.970260  196.684054   \n2023-12-14  198.110001  21.465036                  191.650235  197.663336   \n2023-12-15  197.570007  21.402006                  192.214023  198.435782   \n2023-12-18  195.889999  21.373318                  192.564116  198.770131   \n2023-12-19  196.940002  21.394349                  192.980867  233.119592   \n\n             BB_MIDDLE    BB_LOWER  \nDate                                \n2020-12-21  128.229996         NaN  \n2020-12-22  130.146251         NaN  \n2020-12-23  130.445057         NaN  \n2020-12-24  130.885285         NaN  \n2020-12-28  132.289397         NaN  \n...                ...         ...  \n2023-12-13  190.970260  186.568946  \n2023-12-14  191.650235  186.599665  \n2023-12-15  192.214023  186.613218  \n2023-12-18  192.564116  186.898869  \n2023-12-19  192.980867  152.842142  \n\n[754 rows x 6 columns]",
      "text/html": "<div>\n<style scoped>\n    .dataframe tbody tr th:only-of-type {\n        vertical-align: middle;\n    }\n\n    .dataframe tbody tr th {\n        vertical-align: top;\n    }\n\n    .dataframe thead th {\n        text-align: right;\n    }\n</style>\n<table border=\"1\" class=\"dataframe\">\n  <thead>\n    <tr style=\"text-align: right;\">\n      <th></th>\n      <th>Adj Close</th>\n      <th>OBV</th>\n      <th>Exponential_moving_average</th>\n      <th>BB_UPPER</th>\n      <th>BB_MIDDLE</th>\n      <th>BB_LOWER</th>\n    </tr>\n    <tr>\n      <th>Date</th>\n      <th></th>\n      <th></th>\n      <th></th>\n      <th></th>\n      <th></th>\n      <th></th>\n    </tr>\n  </thead>\n  <tbody>\n    <tr>\n      <th>2020-12-21</th>\n      <td>126.004639</td>\n      <td>21.020569</td>\n      <td>128.229996</td>\n      <td>NaN</td>\n      <td>128.229996</td>\n      <td>NaN</td>\n    </tr>\n    <tr>\n      <th>2020-12-22</th>\n      <td>129.591309</td>\n      <td>21.138766</td>\n      <td>130.146251</td>\n      <td>NaN</td>\n      <td>130.146251</td>\n      <td>NaN</td>\n    </tr>\n    <tr>\n      <th>2020-12-23</th>\n      <td>128.687271</td>\n      <td>21.078773</td>\n      <td>130.445057</td>\n      <td>NaN</td>\n      <td>130.445057</td>\n      <td>NaN</td>\n    </tr>\n    <tr>\n      <th>2020-12-24</th>\n      <td>129.679733</td>\n      <td>21.116547</td>\n      <td>130.885285</td>\n      <td>NaN</td>\n      <td>130.885285</td>\n      <td>NaN</td>\n    </tr>\n    <tr>\n      <th>2020-12-28</th>\n      <td>134.317841</td>\n      <td>21.197212</td>\n      <td>132.289397</td>\n      <td>NaN</td>\n      <td>132.289397</td>\n      <td>NaN</td>\n    </tr>\n    <tr>\n      <th>...</th>\n      <td>...</td>\n      <td>...</td>\n      <td>...</td>\n      <td>...</td>\n      <td>...</td>\n      <td>...</td>\n    </tr>\n    <tr>\n      <th>2023-12-13</th>\n      <td>197.960007</td>\n      <td>21.432689</td>\n      <td>190.970260</td>\n      <td>196.684054</td>\n      <td>190.970260</td>\n      <td>186.568946</td>\n    </tr>\n    <tr>\n      <th>2023-12-14</th>\n      <td>198.110001</td>\n      <td>21.465036</td>\n      <td>191.650235</td>\n      <td>197.663336</td>\n      <td>191.650235</td>\n      <td>186.599665</td>\n    </tr>\n    <tr>\n      <th>2023-12-15</th>\n      <td>197.570007</td>\n      <td>21.402006</td>\n      <td>192.214023</td>\n      <td>198.435782</td>\n      <td>192.214023</td>\n      <td>186.613218</td>\n    </tr>\n    <tr>\n      <th>2023-12-18</th>\n      <td>195.889999</td>\n      <td>21.373318</td>\n      <td>192.564116</td>\n      <td>198.770131</td>\n      <td>192.564116</td>\n      <td>186.898869</td>\n    </tr>\n    <tr>\n      <th>2023-12-19</th>\n      <td>196.940002</td>\n      <td>21.394349</td>\n      <td>192.980867</td>\n      <td>233.119592</td>\n      <td>192.980867</td>\n      <td>152.842142</td>\n    </tr>\n  </tbody>\n</table>\n<p>754 rows × 6 columns</p>\n</div>"
     },
     "execution_count": 13,
     "metadata": {},
     "output_type": "execute_result"
    }
   ],
   "source": [
    "add_technical_indicators(obv(stock_df))"
   ],
   "metadata": {
    "collapsed": false,
    "ExecuteTime": {
     "end_time": "2024-01-06T09:47:06.087847Z",
     "start_time": "2024-01-06T09:47:05.897051Z"
    }
   },
   "id": "45660275ee7fa788"
  },
  {
   "cell_type": "code",
   "execution_count": 14,
   "outputs": [],
   "source": [
    "def train_test_split_preparation(new_df, train_split):\n",
    "    \n",
    "    #history_points = 30  # Using the past 30 days of data to predict the next day\n",
    "    \n",
    "    #Preparation of train test set.\n",
    "    train_indices = int(new_df.shape[0] * train_split)\n",
    "\n",
    "    train_data = new_df[:train_indices]\n",
    "    test_data = new_df[train_indices:]\n",
    "    train_data = train_data.dropna()\n",
    "    test_data = test_data.dropna()\n",
    "    \n",
    "    test_data = test_data.reset_index()\n",
    "    train_data = train_data.reset_index()\n",
    "    train_data = train_data.drop(columns=['Date'])\n",
    "    test_data = test_data.drop(columns=['Date'])\n",
    "    \n",
    "    normaliser = MinMaxScaler()\n",
    "    train_normalised_data = normaliser.fit_transform(train_data)\n",
    "    test_normalised_data = normaliser.transform(test_data)\n",
    "\n",
    "    x_train = np.array([train_normalised_data[:,0:][i : i + history_points].copy() for i in range(len(train_normalised_data) - history_points)])\n",
    "\n",
    "    y_train = np.array([train_normalised_data[:,0][i + history_points].copy() for i in range(len(train_normalised_data) - history_points)])\n",
    "    y_train = np.expand_dims(y_train, -1)\n",
    "\n",
    "    y_normaliser = MinMaxScaler()\n",
    "    next_day_close_values = np.array([train_data['Adj Close'][i + history_points].copy() for i in range(len(train_data) - history_points)])\n",
    "    next_day_close_values = np.expand_dims(next_day_close_values, -1)\n",
    "\n",
    "    y_normaliser.fit(next_day_close_values)\n",
    "\n",
    "    x_test = np.array([test_normalised_data[:,0:][i  : i + history_points].copy() for i in range(len(test_normalised_data) - history_points)])\n",
    "    \n",
    "    y_test = np.array([test_data['Adj Close'][i + history_points].copy() for i in range(len(test_data) - history_points)])\n",
    "    \n",
    "    y_test = np.expand_dims(y_test, -1)\n",
    "\n",
    "    return x_train, y_train, x_test, y_test, y_normaliser"
   ],
   "metadata": {
    "collapsed": false,
    "ExecuteTime": {
     "end_time": "2024-01-06T09:47:22.317810Z",
     "start_time": "2024-01-06T09:47:22.188521Z"
    }
   },
   "id": "d2350ff03c3eb5a1"
  },
  {
   "cell_type": "code",
   "execution_count": 15,
   "outputs": [],
   "source": [
    "def lstm_model(x_train, y_train, history_points):\n",
    "    \n",
    "    #Setting of seed (to maintain constant result)\n",
    "    tf.random.set_seed(42)\n",
    "    np.random.seed(42)\n",
    "    python_random.seed(42)\n",
    "    \n",
    "    lstm_input = Input(shape=(history_points, 6), name='lstm_input') # '6' number of features --> Open, High, Low, Close, Adj Close, Volume\n",
    "\n",
    "    inputs = LSTM(21, name='first_layer')(lstm_input) # 21 --> Number of Units (Neurons) in the NN\n",
    "    output = Dense(1, name='output', activation='linear')(inputs) # The output of the LSTM layer is passed to a Dense layer with a single unit, which is suitable for regression tasks or when predicting a single continuous value\n",
    "\n",
    "    model = Model(inputs=lstm_input, outputs=output)\n",
    "    adam = optimizers.Adam(lr = 0.0009) # optimization algorithm that can be used instead of the classical stochastic gradient descent procedure to update network weights iteratively based on training data\n",
    "    model.compile(optimizer=adam, loss='mse')\n",
    "    model.fit(x=x_train, y=y_train, batch_size=13, epochs=51, shuffle=True, validation_split = 0.1)\n",
    "\n",
    "    return model"
   ],
   "metadata": {
    "collapsed": false,
    "ExecuteTime": {
     "end_time": "2024-01-06T09:47:23.592643Z",
     "start_time": "2024-01-06T09:47:23.576347Z"
    }
   },
   "id": "3485e2403f85ad98"
  },
  {
   "cell_type": "code",
   "execution_count": 16,
   "outputs": [
    {
     "name": "stderr",
     "output_type": "stream",
     "text": [
      "/Users/lennartmuller/anaconda3/lib/python3.11/site-packages/sklearn/utils/validation.py:767: FutureWarning: is_sparse is deprecated and will be removed in a future version. Check `isinstance(dtype, pd.SparseDtype)` instead.\n",
      "  if not hasattr(array, \"sparse\") and array.dtypes.apply(is_sparse).any():\n",
      "/Users/lennartmuller/anaconda3/lib/python3.11/site-packages/sklearn/utils/validation.py:605: FutureWarning: is_sparse is deprecated and will be removed in a future version. Check `isinstance(dtype, pd.SparseDtype)` instead.\n",
      "  if is_sparse(pd_dtype):\n",
      "/Users/lennartmuller/anaconda3/lib/python3.11/site-packages/sklearn/utils/validation.py:614: FutureWarning: is_sparse is deprecated and will be removed in a future version. Check `isinstance(dtype, pd.SparseDtype)` instead.\n",
      "  if is_sparse(pd_dtype) or not is_extension_array_dtype(pd_dtype):\n",
      "/Users/lennartmuller/anaconda3/lib/python3.11/site-packages/sklearn/utils/validation.py:767: FutureWarning: is_sparse is deprecated and will be removed in a future version. Check `isinstance(dtype, pd.SparseDtype)` instead.\n",
      "  if not hasattr(array, \"sparse\") and array.dtypes.apply(is_sparse).any():\n",
      "/Users/lennartmuller/anaconda3/lib/python3.11/site-packages/sklearn/utils/validation.py:605: FutureWarning: is_sparse is deprecated and will be removed in a future version. Check `isinstance(dtype, pd.SparseDtype)` instead.\n",
      "  if is_sparse(pd_dtype):\n",
      "/Users/lennartmuller/anaconda3/lib/python3.11/site-packages/sklearn/utils/validation.py:614: FutureWarning: is_sparse is deprecated and will be removed in a future version. Check `isinstance(dtype, pd.SparseDtype)` instead.\n",
      "  if is_sparse(pd_dtype) or not is_extension_array_dtype(pd_dtype):\n",
      "/Users/lennartmuller/anaconda3/lib/python3.11/site-packages/sklearn/utils/validation.py:767: FutureWarning: is_sparse is deprecated and will be removed in a future version. Check `isinstance(dtype, pd.SparseDtype)` instead.\n",
      "  if not hasattr(array, \"sparse\") and array.dtypes.apply(is_sparse).any():\n",
      "/Users/lennartmuller/anaconda3/lib/python3.11/site-packages/sklearn/utils/validation.py:605: FutureWarning: is_sparse is deprecated and will be removed in a future version. Check `isinstance(dtype, pd.SparseDtype)` instead.\n",
      "  if is_sparse(pd_dtype):\n",
      "/Users/lennartmuller/anaconda3/lib/python3.11/site-packages/sklearn/utils/validation.py:614: FutureWarning: is_sparse is deprecated and will be removed in a future version. Check `isinstance(dtype, pd.SparseDtype)` instead.\n",
      "  if is_sparse(pd_dtype) or not is_extension_array_dtype(pd_dtype):\n"
     ]
    },
    {
     "ename": "AttributeError",
     "evalue": "module 'tensorflow' has no attribute 'random'",
     "output_type": "error",
     "traceback": [
      "\u001B[0;31m---------------------------------------------------------------------------\u001B[0m",
      "\u001B[0;31mAttributeError\u001B[0m                            Traceback (most recent call last)",
      "Cell \u001B[0;32mIn[16], line 13\u001B[0m\n\u001B[1;32m      9\u001B[0m new_df \u001B[38;5;241m=\u001B[39m add_technical_indicators(new_df)\n\u001B[1;32m     11\u001B[0m x_train, y_train, x_test, y_test, y_reverse_normaliser \u001B[38;5;241m=\u001B[39m train_test_split_preparation(new_df, train_split)\n\u001B[0;32m---> 13\u001B[0m model \u001B[38;5;241m=\u001B[39m lstm_model(x_train, y_train, history_points)\n\u001B[1;32m     15\u001B[0m y_pred \u001B[38;5;241m=\u001B[39m model\u001B[38;5;241m.\u001B[39mpredict(x_test)\n\u001B[1;32m     16\u001B[0m y_pred \u001B[38;5;241m=\u001B[39m y_reverse_normaliser\u001B[38;5;241m.\u001B[39minverse_transform(y_pred)\n",
      "Cell \u001B[0;32mIn[15], line 4\u001B[0m, in \u001B[0;36mlstm_model\u001B[0;34m(x_train, y_train, history_points)\u001B[0m\n\u001B[1;32m      1\u001B[0m \u001B[38;5;28;01mdef\u001B[39;00m \u001B[38;5;21mlstm_model\u001B[39m(x_train, y_train, history_points):\n\u001B[1;32m      2\u001B[0m     \n\u001B[1;32m      3\u001B[0m     \u001B[38;5;66;03m#Setting of seed (to maintain constant result)\u001B[39;00m\n\u001B[0;32m----> 4\u001B[0m     tf\u001B[38;5;241m.\u001B[39mrandom\u001B[38;5;241m.\u001B[39mset_seed(\u001B[38;5;241m42\u001B[39m)\n\u001B[1;32m      5\u001B[0m     np\u001B[38;5;241m.\u001B[39mrandom\u001B[38;5;241m.\u001B[39mseed(\u001B[38;5;241m42\u001B[39m)\n\u001B[1;32m      6\u001B[0m     python_random\u001B[38;5;241m.\u001B[39mseed(\u001B[38;5;241m42\u001B[39m)\n",
      "\u001B[0;31mAttributeError\u001B[0m: module 'tensorflow' has no attribute 'random'"
     ]
    }
   ],
   "source": [
    "if __name__ == \"__main__\":\n",
    "    \n",
    "    train_split = 0.7\n",
    "    \n",
    "    history_points = 30\n",
    "    \n",
    "    new_df = obv(stock_df)\n",
    "\n",
    "    new_df = add_technical_indicators(new_df)\n",
    "    \n",
    "    x_train, y_train, x_test, y_test, y_reverse_normaliser = train_test_split_preparation(new_df, train_split)\n",
    "\n",
    "    model = lstm_model(x_train, y_train, history_points)\n",
    "\n",
    "    y_pred = model.predict(x_test)\n",
    "    y_pred = y_reverse_normaliser.inverse_transform(y_pred)\n",
    "\n",
    "    real = plt.plot(y_test, label='Actual Price')\n",
    "    pred = plt.plot(y_pred, label='Predicted Price')\n",
    "\n",
    "    plt.gcf().set_size_inches(12, 8, forward=True)\n",
    "    plt.title('Plot of real price and predicted price against number of days')\n",
    "    plt.xlabel('Number of days')\n",
    "    plt.ylabel('Adjusted Close Price($)')\n",
    "\n",
    "    plt.legend(['Actual Price', 'Predicted Price'])\n",
    "    \n",
    "    print(\"RMSE: \")\n",
    "    print(mean_squared_error(y_test, y_pred))\n",
    " \n",
    "    plt.show()  "
   ],
   "metadata": {
    "collapsed": false,
    "ExecuteTime": {
     "end_time": "2024-01-06T09:47:25.313139Z",
     "start_time": "2024-01-06T09:47:24.895428Z"
    }
   },
   "id": "4dbf305efde503ff"
  },
  {
   "cell_type": "code",
   "execution_count": 10,
   "outputs": [
    {
     "ename": "ModuleNotFoundError",
     "evalue": "No module named 'tensorflow.compat'",
     "output_type": "error",
     "traceback": [
      "\u001B[0;31m---------------------------------------------------------------------------\u001B[0m",
      "\u001B[0;31mModuleNotFoundError\u001B[0m                       Traceback (most recent call last)",
      "Cell \u001B[0;32mIn[10], line 5\u001B[0m\n\u001B[1;32m      1\u001B[0m \u001B[38;5;66;03m# Finding the optimal number of epochs: (Manually checking the values worked better)\u001B[39;00m\n\u001B[1;32m      2\u001B[0m \u001B[38;5;66;03m# The increase in the number of epochs would reduce the error but too many epochs would result in the model learning the noise of the train data\u001B[39;00m\n\u001B[1;32m      3\u001B[0m \u001B[38;5;66;03m# One needs to pay attention to the validation loss, and stop when it is at the lowest point as beyond that, we are overfitting our features just to increase our accuracy\u001B[39;00m\n\u001B[0;32m----> 5\u001B[0m \u001B[38;5;28;01mfrom\u001B[39;00m \u001B[38;5;21;01mkeras\u001B[39;00m\u001B[38;5;21;01m.\u001B[39;00m\u001B[38;5;21;01mcallbacks\u001B[39;00m \u001B[38;5;28;01mimport\u001B[39;00m EarlyStopping\n\u001B[1;32m      7\u001B[0m early_stopping \u001B[38;5;241m=\u001B[39m EarlyStopping(monitor\u001B[38;5;241m=\u001B[39m\u001B[38;5;124m'\u001B[39m\u001B[38;5;124mval_loss\u001B[39m\u001B[38;5;124m'\u001B[39m, patience\u001B[38;5;241m=\u001B[39m\u001B[38;5;241m20\u001B[39m, restore_best_weights\u001B[38;5;241m=\u001B[39m\u001B[38;5;28;01mTrue\u001B[39;00m) \u001B[38;5;66;03m# patience=20 --> run until the validation accuracy does not improve for 20 consecutive epochs (stops after 41 epochs)\u001B[39;00m\n\u001B[1;32m      8\u001B[0m model\u001B[38;5;241m.\u001B[39mfit(x_train, y_train, epochs\u001B[38;5;241m=\u001B[39m\u001B[38;5;241m1000\u001B[39m, validation_split\u001B[38;5;241m=\u001B[39m\u001B[38;5;241m0.1\u001B[39m, callbacks\u001B[38;5;241m=\u001B[39m[early_stopping])\n",
      "File \u001B[0;32m~/anaconda3/lib/python3.11/site-packages/keras/__init__.py:3\u001B[0m\n\u001B[1;32m      1\u001B[0m \u001B[38;5;124;03m\"\"\"AUTOGENERATED. DO NOT EDIT.\"\"\"\u001B[39;00m\n\u001B[0;32m----> 3\u001B[0m \u001B[38;5;28;01mfrom\u001B[39;00m \u001B[38;5;21;01mkeras\u001B[39;00m \u001B[38;5;28;01mimport\u001B[39;00m __internal__\n\u001B[1;32m      4\u001B[0m \u001B[38;5;28;01mfrom\u001B[39;00m \u001B[38;5;21;01mkeras\u001B[39;00m \u001B[38;5;28;01mimport\u001B[39;00m activations\n\u001B[1;32m      5\u001B[0m \u001B[38;5;28;01mfrom\u001B[39;00m \u001B[38;5;21;01mkeras\u001B[39;00m \u001B[38;5;28;01mimport\u001B[39;00m applications\n",
      "File \u001B[0;32m~/anaconda3/lib/python3.11/site-packages/keras/__internal__/__init__.py:3\u001B[0m\n\u001B[1;32m      1\u001B[0m \u001B[38;5;124;03m\"\"\"AUTOGENERATED. DO NOT EDIT.\"\"\"\u001B[39;00m\n\u001B[0;32m----> 3\u001B[0m \u001B[38;5;28;01mfrom\u001B[39;00m \u001B[38;5;21;01mkeras\u001B[39;00m\u001B[38;5;21;01m.\u001B[39;00m\u001B[38;5;21;01m__internal__\u001B[39;00m \u001B[38;5;28;01mimport\u001B[39;00m backend\n\u001B[1;32m      4\u001B[0m \u001B[38;5;28;01mfrom\u001B[39;00m \u001B[38;5;21;01mkeras\u001B[39;00m\u001B[38;5;21;01m.\u001B[39;00m\u001B[38;5;21;01m__internal__\u001B[39;00m \u001B[38;5;28;01mimport\u001B[39;00m layers\n\u001B[1;32m      5\u001B[0m \u001B[38;5;28;01mfrom\u001B[39;00m \u001B[38;5;21;01mkeras\u001B[39;00m\u001B[38;5;21;01m.\u001B[39;00m\u001B[38;5;21;01m__internal__\u001B[39;00m \u001B[38;5;28;01mimport\u001B[39;00m losses\n",
      "File \u001B[0;32m~/anaconda3/lib/python3.11/site-packages/keras/__internal__/backend/__init__.py:3\u001B[0m\n\u001B[1;32m      1\u001B[0m \u001B[38;5;124;03m\"\"\"AUTOGENERATED. DO NOT EDIT.\"\"\"\u001B[39;00m\n\u001B[0;32m----> 3\u001B[0m \u001B[38;5;28;01mfrom\u001B[39;00m \u001B[38;5;21;01mkeras\u001B[39;00m\u001B[38;5;21;01m.\u001B[39;00m\u001B[38;5;21;01msrc\u001B[39;00m\u001B[38;5;21;01m.\u001B[39;00m\u001B[38;5;21;01mbackend\u001B[39;00m \u001B[38;5;28;01mimport\u001B[39;00m _initialize_variables \u001B[38;5;28;01mas\u001B[39;00m initialize_variables\n\u001B[1;32m      4\u001B[0m \u001B[38;5;28;01mfrom\u001B[39;00m \u001B[38;5;21;01mkeras\u001B[39;00m\u001B[38;5;21;01m.\u001B[39;00m\u001B[38;5;21;01msrc\u001B[39;00m\u001B[38;5;21;01m.\u001B[39;00m\u001B[38;5;21;01mbackend\u001B[39;00m \u001B[38;5;28;01mimport\u001B[39;00m track_variable\n",
      "File \u001B[0;32m~/anaconda3/lib/python3.11/site-packages/keras/src/__init__.py:21\u001B[0m\n\u001B[1;32m      1\u001B[0m \u001B[38;5;66;03m# Copyright 2015 The TensorFlow Authors. All Rights Reserved.\u001B[39;00m\n\u001B[1;32m      2\u001B[0m \u001B[38;5;66;03m#\u001B[39;00m\n\u001B[1;32m      3\u001B[0m \u001B[38;5;66;03m# Licensed under the Apache License, Version 2.0 (the \"License\");\u001B[39;00m\n\u001B[0;32m   (...)\u001B[0m\n\u001B[1;32m     13\u001B[0m \u001B[38;5;66;03m# limitations under the License.\u001B[39;00m\n\u001B[1;32m     14\u001B[0m \u001B[38;5;66;03m# ==============================================================================\u001B[39;00m\n\u001B[1;32m     15\u001B[0m \u001B[38;5;124;03m\"\"\"Implementation of the Keras API, the high-level API of TensorFlow.\u001B[39;00m\n\u001B[1;32m     16\u001B[0m \n\u001B[1;32m     17\u001B[0m \u001B[38;5;124;03mDetailed documentation and user guides are available at\u001B[39;00m\n\u001B[1;32m     18\u001B[0m \u001B[38;5;124;03m[keras.io](https://keras.io).\u001B[39;00m\n\u001B[1;32m     19\u001B[0m \u001B[38;5;124;03m\"\"\"\u001B[39;00m\n\u001B[0;32m---> 21\u001B[0m \u001B[38;5;28;01mfrom\u001B[39;00m \u001B[38;5;21;01mkeras\u001B[39;00m\u001B[38;5;21;01m.\u001B[39;00m\u001B[38;5;21;01msrc\u001B[39;00m \u001B[38;5;28;01mimport\u001B[39;00m applications\n\u001B[1;32m     22\u001B[0m \u001B[38;5;28;01mfrom\u001B[39;00m \u001B[38;5;21;01mkeras\u001B[39;00m\u001B[38;5;21;01m.\u001B[39;00m\u001B[38;5;21;01msrc\u001B[39;00m \u001B[38;5;28;01mimport\u001B[39;00m distribute\n\u001B[1;32m     23\u001B[0m \u001B[38;5;28;01mfrom\u001B[39;00m \u001B[38;5;21;01mkeras\u001B[39;00m\u001B[38;5;21;01m.\u001B[39;00m\u001B[38;5;21;01msrc\u001B[39;00m \u001B[38;5;28;01mimport\u001B[39;00m models\n",
      "File \u001B[0;32m~/anaconda3/lib/python3.11/site-packages/keras/src/applications/__init__.py:18\u001B[0m\n\u001B[1;32m      1\u001B[0m \u001B[38;5;66;03m# Copyright 2016 The TensorFlow Authors. All Rights Reserved.\u001B[39;00m\n\u001B[1;32m      2\u001B[0m \u001B[38;5;66;03m#\u001B[39;00m\n\u001B[1;32m      3\u001B[0m \u001B[38;5;66;03m# Licensed under the Apache License, Version 2.0 (the \"License\");\u001B[39;00m\n\u001B[0;32m   (...)\u001B[0m\n\u001B[1;32m     13\u001B[0m \u001B[38;5;66;03m# limitations under the License.\u001B[39;00m\n\u001B[1;32m     14\u001B[0m \u001B[38;5;66;03m# ==============================================================================\u001B[39;00m\n\u001B[1;32m     15\u001B[0m \u001B[38;5;124;03m\"\"\"Keras Applications are premade architectures with pre-trained weights.\"\"\"\u001B[39;00m\n\u001B[0;32m---> 18\u001B[0m \u001B[38;5;28;01mfrom\u001B[39;00m \u001B[38;5;21;01mkeras\u001B[39;00m\u001B[38;5;21;01m.\u001B[39;00m\u001B[38;5;21;01msrc\u001B[39;00m\u001B[38;5;21;01m.\u001B[39;00m\u001B[38;5;21;01mapplications\u001B[39;00m\u001B[38;5;21;01m.\u001B[39;00m\u001B[38;5;21;01mconvnext\u001B[39;00m \u001B[38;5;28;01mimport\u001B[39;00m ConvNeXtBase\n\u001B[1;32m     19\u001B[0m \u001B[38;5;28;01mfrom\u001B[39;00m \u001B[38;5;21;01mkeras\u001B[39;00m\u001B[38;5;21;01m.\u001B[39;00m\u001B[38;5;21;01msrc\u001B[39;00m\u001B[38;5;21;01m.\u001B[39;00m\u001B[38;5;21;01mapplications\u001B[39;00m\u001B[38;5;21;01m.\u001B[39;00m\u001B[38;5;21;01mconvnext\u001B[39;00m \u001B[38;5;28;01mimport\u001B[39;00m ConvNeXtLarge\n\u001B[1;32m     20\u001B[0m \u001B[38;5;28;01mfrom\u001B[39;00m \u001B[38;5;21;01mkeras\u001B[39;00m\u001B[38;5;21;01m.\u001B[39;00m\u001B[38;5;21;01msrc\u001B[39;00m\u001B[38;5;21;01m.\u001B[39;00m\u001B[38;5;21;01mapplications\u001B[39;00m\u001B[38;5;21;01m.\u001B[39;00m\u001B[38;5;21;01mconvnext\u001B[39;00m \u001B[38;5;28;01mimport\u001B[39;00m ConvNeXtSmall\n",
      "File \u001B[0;32m~/anaconda3/lib/python3.11/site-packages/keras/src/applications/convnext.py:26\u001B[0m\n\u001B[1;32m     17\u001B[0m \u001B[38;5;124;03m\"\"\"ConvNeXt models for Keras.\u001B[39;00m\n\u001B[1;32m     18\u001B[0m \n\u001B[1;32m     19\u001B[0m \u001B[38;5;124;03mReferences:\u001B[39;00m\n\u001B[0;32m   (...)\u001B[0m\n\u001B[1;32m     22\u001B[0m \u001B[38;5;124;03m  (CVPR 2022)\u001B[39;00m\n\u001B[1;32m     23\u001B[0m \u001B[38;5;124;03m\"\"\"\u001B[39;00m\n\u001B[1;32m     25\u001B[0m \u001B[38;5;28;01mimport\u001B[39;00m \u001B[38;5;21;01mnumpy\u001B[39;00m \u001B[38;5;28;01mas\u001B[39;00m \u001B[38;5;21;01mnp\u001B[39;00m\n\u001B[0;32m---> 26\u001B[0m \u001B[38;5;28;01mimport\u001B[39;00m \u001B[38;5;21;01mtensorflow\u001B[39;00m\u001B[38;5;21;01m.\u001B[39;00m\u001B[38;5;21;01mcompat\u001B[39;00m\u001B[38;5;21;01m.\u001B[39;00m\u001B[38;5;21;01mv2\u001B[39;00m \u001B[38;5;28;01mas\u001B[39;00m \u001B[38;5;21;01mtf\u001B[39;00m\n\u001B[1;32m     28\u001B[0m \u001B[38;5;28;01mfrom\u001B[39;00m \u001B[38;5;21;01mkeras\u001B[39;00m\u001B[38;5;21;01m.\u001B[39;00m\u001B[38;5;21;01msrc\u001B[39;00m \u001B[38;5;28;01mimport\u001B[39;00m backend\n\u001B[1;32m     29\u001B[0m \u001B[38;5;28;01mfrom\u001B[39;00m \u001B[38;5;21;01mkeras\u001B[39;00m\u001B[38;5;21;01m.\u001B[39;00m\u001B[38;5;21;01msrc\u001B[39;00m \u001B[38;5;28;01mimport\u001B[39;00m initializers\n",
      "\u001B[0;31mModuleNotFoundError\u001B[0m: No module named 'tensorflow.compat'"
     ]
    }
   ],
   "source": [
    "# Finding the optimal number of epochs: (Manually checking the values worked better)\n",
    "# The increase in the number of epochs would reduce the error but too many epochs would result in the model learning the noise of the train data\n",
    "# One needs to pay attention to the validation loss, and stop when it is at the lowest point as beyond that, we are overfitting our features just to increase our accuracy\n",
    "    \n",
    "from keras.callbacks import EarlyStopping\n",
    "\n",
    "early_stopping = EarlyStopping(monitor='val_loss', patience=20, restore_best_weights=True) # patience=20 --> run until the validation accuracy does not improve for 20 consecutive epochs (stops after 41 epochs)\n",
    "model.fit(x_train, y_train, epochs=1000, validation_split=0.1, callbacks=[early_stopping])"
   ],
   "metadata": {
    "collapsed": false,
    "ExecuteTime": {
     "end_time": "2024-01-05T12:22:59.455702Z",
     "start_time": "2024-01-05T12:22:59.399456Z"
    }
   },
   "id": "d0621bd57a040192"
  },
  {
   "cell_type": "code",
   "execution_count": 389,
   "outputs": [
    {
     "name": "stdout",
     "output_type": "stream",
     "text": [
      "1/1 [==============================] - 0s 8ms/step\n",
      "196.94000244140625\n",
      "Predicted stock price for 2023-12-20: 171.02237\n"
     ]
    },
    {
     "name": "stderr",
     "output_type": "stream",
     "text": [
      "/Users/lennartmuller/anaconda3/lib/python3.11/site-packages/sklearn/utils/validation.py:767: FutureWarning: is_sparse is deprecated and will be removed in a future version. Check `isinstance(dtype, pd.SparseDtype)` instead.\n",
      "  if not hasattr(array, \"sparse\") and array.dtypes.apply(is_sparse).any():\n",
      "/Users/lennartmuller/anaconda3/lib/python3.11/site-packages/sklearn/utils/validation.py:605: FutureWarning: is_sparse is deprecated and will be removed in a future version. Check `isinstance(dtype, pd.SparseDtype)` instead.\n",
      "  if is_sparse(pd_dtype):\n",
      "/Users/lennartmuller/anaconda3/lib/python3.11/site-packages/sklearn/utils/validation.py:614: FutureWarning: is_sparse is deprecated and will be removed in a future version. Check `isinstance(dtype, pd.SparseDtype)` instead.\n",
      "  if is_sparse(pd_dtype) or not is_extension_array_dtype(pd_dtype):\n",
      "/Users/lennartmuller/anaconda3/lib/python3.11/site-packages/sklearn/utils/validation.py:767: FutureWarning: is_sparse is deprecated and will be removed in a future version. Check `isinstance(dtype, pd.SparseDtype)` instead.\n",
      "  if not hasattr(array, \"sparse\") and array.dtypes.apply(is_sparse).any():\n",
      "/Users/lennartmuller/anaconda3/lib/python3.11/site-packages/sklearn/utils/validation.py:605: FutureWarning: is_sparse is deprecated and will be removed in a future version. Check `isinstance(dtype, pd.SparseDtype)` instead.\n",
      "  if is_sparse(pd_dtype):\n",
      "/Users/lennartmuller/anaconda3/lib/python3.11/site-packages/sklearn/utils/validation.py:614: FutureWarning: is_sparse is deprecated and will be removed in a future version. Check `isinstance(dtype, pd.SparseDtype)` instead.\n",
      "  if is_sparse(pd_dtype) or not is_extension_array_dtype(pd_dtype):\n"
     ]
    }
   ],
   "source": [
    "# Predicting the stock price for the next day\n",
    "\n",
    "# Extract the last 'history_points' days of data\n",
    "last_days = stock_df[-history_points:]\n",
    "\n",
    "# Normalize the Input Data --> You need to apply the same transformations as you did for your training data\n",
    "normaliser = MinMaxScaler()\n",
    "last_days_scaled = normaliser.fit_transform(last_days)\n",
    "\n",
    "# Reshape the data to match the input shape of the LSTM model\n",
    "x_to_predict = np.array([last_days_scaled])\n",
    "x_to_predict = np.reshape(x_to_predict, (1, history_points, 6))\n",
    "\n",
    "# Make the Prediction\n",
    "predicted_stock_price = model.predict(x_to_predict)\n",
    "\n",
    "# Inverse Transform the Prediction\n",
    "predicted_stock_price = y_reverse_normaliser.inverse_transform(predicted_stock_price)\n",
    "\n",
    "# The predicted stock price\n",
    "print(stock_df.loc['2023-12-19', 'Adj Close'])\n",
    "print(\"Predicted stock price for 2023-12-20:\", predicted_stock_price[0,0])"
   ],
   "metadata": {
    "collapsed": false,
    "ExecuteTime": {
     "end_time": "2024-01-03T16:15:18.493772Z",
     "start_time": "2024-01-03T16:15:18.444975Z"
    }
   },
   "id": "7d50f0647552ce14"
  },
  {
   "cell_type": "code",
   "execution_count": 390,
   "outputs": [
    {
     "name": "stdout",
     "output_type": "stream",
     "text": [
      "[*********************100%%**********************]  1 of 1 completed\n"
     ]
    },
    {
     "data": {
      "text/plain": "                  Open        High         Low       Close   Adj Close  \\\nDate                                                                     \n2023-12-20  196.899994  197.679993  194.830002  194.830002  194.830002   \n2023-12-21  196.100006  197.080002  193.500000  194.679993  194.679993   \n\n              Volume  \nDate                  \n2023-12-20  52242800  \n2023-12-21  46482500  ",
      "text/html": "<div>\n<style scoped>\n    .dataframe tbody tr th:only-of-type {\n        vertical-align: middle;\n    }\n\n    .dataframe tbody tr th {\n        vertical-align: top;\n    }\n\n    .dataframe thead th {\n        text-align: right;\n    }\n</style>\n<table border=\"1\" class=\"dataframe\">\n  <thead>\n    <tr style=\"text-align: right;\">\n      <th></th>\n      <th>Open</th>\n      <th>High</th>\n      <th>Low</th>\n      <th>Close</th>\n      <th>Adj Close</th>\n      <th>Volume</th>\n    </tr>\n    <tr>\n      <th>Date</th>\n      <th></th>\n      <th></th>\n      <th></th>\n      <th></th>\n      <th></th>\n      <th></th>\n    </tr>\n  </thead>\n  <tbody>\n    <tr>\n      <th>2023-12-20</th>\n      <td>196.899994</td>\n      <td>197.679993</td>\n      <td>194.830002</td>\n      <td>194.830002</td>\n      <td>194.830002</td>\n      <td>52242800</td>\n    </tr>\n    <tr>\n      <th>2023-12-21</th>\n      <td>196.100006</td>\n      <td>197.080002</td>\n      <td>193.500000</td>\n      <td>194.679993</td>\n      <td>194.679993</td>\n      <td>46482500</td>\n    </tr>\n  </tbody>\n</table>\n</div>"
     },
     "execution_count": 390,
     "metadata": {},
     "output_type": "execute_result"
    }
   ],
   "source": [
    "apple = yf.download(\"AAPL\", start='2023-12-20', end='2023-12-22')\n",
    "apple"
   ],
   "metadata": {
    "collapsed": false,
    "ExecuteTime": {
     "end_time": "2024-01-03T16:15:22.592495Z",
     "start_time": "2024-01-03T16:15:22.572921Z"
    }
   },
   "id": "13246da1af23eb99"
  },
  {
   "cell_type": "code",
   "execution_count": 391,
   "outputs": [
    {
     "name": "stdout",
     "output_type": "stream",
     "text": [
      "[*********************100%%**********************]  1 of 1 completed\n",
      "                 Open       High        Low      Close  Adj Close    Volume\n",
      "Date                                                                       \n",
      "2020-12-21  85.675499  87.042503  84.949997  86.968498  86.968498  36568000\n",
      "2020-12-22  86.721497  86.870247  85.628754  86.175003  86.175003  18734000\n",
      "2020-12-23  86.405502  87.399498  86.251999  86.619003  86.619003  20676000\n",
      "2020-12-24  86.750000  87.300003  86.455498  86.942497  86.942497   6936000\n",
      "2020-12-28  87.581749  89.536400  87.316750  88.804497  88.804497  27860000\n"
     ]
    }
   ],
   "source": [
    "goog = yf.download(\"GOOG\", start=start_date, end=end_date)\n",
    "print(goog.head())"
   ],
   "metadata": {
    "collapsed": false,
    "ExecuteTime": {
     "end_time": "2024-01-03T16:15:25.191218Z",
     "start_time": "2024-01-03T16:15:24.723765Z"
    }
   },
   "id": "eb517d85cfef3022"
  },
  {
   "cell_type": "code",
   "execution_count": 392,
   "outputs": [
    {
     "name": "stdout",
     "output_type": "stream",
     "text": [
      "Epoch 1/51\n"
     ]
    },
    {
     "name": "stderr",
     "output_type": "stream",
     "text": [
      "/Users/lennartmuller/anaconda3/lib/python3.11/site-packages/sklearn/utils/validation.py:767: FutureWarning: is_sparse is deprecated and will be removed in a future version. Check `isinstance(dtype, pd.SparseDtype)` instead.\n",
      "  if not hasattr(array, \"sparse\") and array.dtypes.apply(is_sparse).any():\n",
      "/Users/lennartmuller/anaconda3/lib/python3.11/site-packages/sklearn/utils/validation.py:605: FutureWarning: is_sparse is deprecated and will be removed in a future version. Check `isinstance(dtype, pd.SparseDtype)` instead.\n",
      "  if is_sparse(pd_dtype):\n",
      "/Users/lennartmuller/anaconda3/lib/python3.11/site-packages/sklearn/utils/validation.py:614: FutureWarning: is_sparse is deprecated and will be removed in a future version. Check `isinstance(dtype, pd.SparseDtype)` instead.\n",
      "  if is_sparse(pd_dtype) or not is_extension_array_dtype(pd_dtype):\n",
      "/Users/lennartmuller/anaconda3/lib/python3.11/site-packages/sklearn/utils/validation.py:767: FutureWarning: is_sparse is deprecated and will be removed in a future version. Check `isinstance(dtype, pd.SparseDtype)` instead.\n",
      "  if not hasattr(array, \"sparse\") and array.dtypes.apply(is_sparse).any():\n",
      "/Users/lennartmuller/anaconda3/lib/python3.11/site-packages/sklearn/utils/validation.py:605: FutureWarning: is_sparse is deprecated and will be removed in a future version. Check `isinstance(dtype, pd.SparseDtype)` instead.\n",
      "  if is_sparse(pd_dtype):\n",
      "/Users/lennartmuller/anaconda3/lib/python3.11/site-packages/sklearn/utils/validation.py:614: FutureWarning: is_sparse is deprecated and will be removed in a future version. Check `isinstance(dtype, pd.SparseDtype)` instead.\n",
      "  if is_sparse(pd_dtype) or not is_extension_array_dtype(pd_dtype):\n",
      "/Users/lennartmuller/anaconda3/lib/python3.11/site-packages/sklearn/utils/validation.py:767: FutureWarning: is_sparse is deprecated and will be removed in a future version. Check `isinstance(dtype, pd.SparseDtype)` instead.\n",
      "  if not hasattr(array, \"sparse\") and array.dtypes.apply(is_sparse).any():\n",
      "/Users/lennartmuller/anaconda3/lib/python3.11/site-packages/sklearn/utils/validation.py:605: FutureWarning: is_sparse is deprecated and will be removed in a future version. Check `isinstance(dtype, pd.SparseDtype)` instead.\n",
      "  if is_sparse(pd_dtype):\n",
      "/Users/lennartmuller/anaconda3/lib/python3.11/site-packages/sklearn/utils/validation.py:614: FutureWarning: is_sparse is deprecated and will be removed in a future version. Check `isinstance(dtype, pd.SparseDtype)` instead.\n",
      "  if is_sparse(pd_dtype) or not is_extension_array_dtype(pd_dtype):\n",
      "2024-01-03 17:15:26.328083: I tensorflow/core/common_runtime/executor.cc:1197] [/device:CPU:0] (DEBUG INFO) Executor start aborting (this does not indicate an error and you can ignore this message): INVALID_ARGUMENT: You must feed a value for placeholder tensor 'gradients/split_2_grad/concat/split_2/split_dim' with dtype int32\n",
      "\t [[{{node gradients/split_2_grad/concat/split_2/split_dim}}]]\n",
      "2024-01-03 17:15:26.328770: I tensorflow/core/common_runtime/executor.cc:1197] [/device:CPU:0] (DEBUG INFO) Executor start aborting (this does not indicate an error and you can ignore this message): INVALID_ARGUMENT: You must feed a value for placeholder tensor 'gradients/split_grad/concat/split/split_dim' with dtype int32\n",
      "\t [[{{node gradients/split_grad/concat/split/split_dim}}]]\n",
      "2024-01-03 17:15:26.329436: I tensorflow/core/common_runtime/executor.cc:1197] [/device:CPU:0] (DEBUG INFO) Executor start aborting (this does not indicate an error and you can ignore this message): INVALID_ARGUMENT: You must feed a value for placeholder tensor 'gradients/split_1_grad/concat/split_1/split_dim' with dtype int32\n",
      "\t [[{{node gradients/split_1_grad/concat/split_1/split_dim}}]]\n",
      "/Users/lennartmuller/anaconda3/lib/python3.11/site-packages/keras/optimizers/legacy/adam.py:117: UserWarning: The `lr` argument is deprecated, use `learning_rate` instead.\n",
      "  super().__init__(name, **kwargs)\n",
      "2024-01-03 17:15:26.441741: I tensorflow/core/common_runtime/executor.cc:1197] [/device:CPU:0] (DEBUG INFO) Executor start aborting (this does not indicate an error and you can ignore this message): INVALID_ARGUMENT: You must feed a value for placeholder tensor 'gradients/split_2_grad/concat/split_2/split_dim' with dtype int32\n",
      "\t [[{{node gradients/split_2_grad/concat/split_2/split_dim}}]]\n",
      "2024-01-03 17:15:26.442642: I tensorflow/core/common_runtime/executor.cc:1197] [/device:CPU:0] (DEBUG INFO) Executor start aborting (this does not indicate an error and you can ignore this message): INVALID_ARGUMENT: You must feed a value for placeholder tensor 'gradients/split_grad/concat/split/split_dim' with dtype int32\n",
      "\t [[{{node gradients/split_grad/concat/split/split_dim}}]]\n",
      "2024-01-03 17:15:26.443371: I tensorflow/core/common_runtime/executor.cc:1197] [/device:CPU:0] (DEBUG INFO) Executor start aborting (this does not indicate an error and you can ignore this message): INVALID_ARGUMENT: You must feed a value for placeholder tensor 'gradients/split_1_grad/concat/split_1/split_dim' with dtype int32\n",
      "\t [[{{node gradients/split_1_grad/concat/split_1/split_dim}}]]\n",
      "2024-01-03 17:15:26.646506: I tensorflow/core/common_runtime/executor.cc:1197] [/device:CPU:0] (DEBUG INFO) Executor start aborting (this does not indicate an error and you can ignore this message): INVALID_ARGUMENT: You must feed a value for placeholder tensor 'gradients/split_2_grad/concat/split_2/split_dim' with dtype int32\n",
      "\t [[{{node gradients/split_2_grad/concat/split_2/split_dim}}]]\n",
      "2024-01-03 17:15:26.647186: I tensorflow/core/common_runtime/executor.cc:1197] [/device:CPU:0] (DEBUG INFO) Executor start aborting (this does not indicate an error and you can ignore this message): INVALID_ARGUMENT: You must feed a value for placeholder tensor 'gradients/split_grad/concat/split/split_dim' with dtype int32\n",
      "\t [[{{node gradients/split_grad/concat/split/split_dim}}]]\n",
      "2024-01-03 17:15:26.648206: I tensorflow/core/common_runtime/executor.cc:1197] [/device:CPU:0] (DEBUG INFO) Executor start aborting (this does not indicate an error and you can ignore this message): INVALID_ARGUMENT: You must feed a value for placeholder tensor 'gradients/split_1_grad/concat/split_1/split_dim' with dtype int32\n",
      "\t [[{{node gradients/split_1_grad/concat/split_1/split_dim}}]]\n"
     ]
    },
    {
     "name": "stdout",
     "output_type": "stream",
     "text": [
      "34/34 [==============================] - 1s 9ms/step - loss: 0.0954 - val_loss: 0.0706\n",
      "Epoch 2/51\n",
      "34/34 [==============================] - 0s 3ms/step - loss: 0.0155 - val_loss: 0.0212\n",
      "Epoch 3/51\n",
      " 1/34 [..............................] - ETA: 0s - loss: 0.0136"
     ]
    },
    {
     "name": "stderr",
     "output_type": "stream",
     "text": [
      "2024-01-03 17:15:27.212018: I tensorflow/core/common_runtime/executor.cc:1197] [/device:CPU:0] (DEBUG INFO) Executor start aborting (this does not indicate an error and you can ignore this message): INVALID_ARGUMENT: You must feed a value for placeholder tensor 'gradients/split_2_grad/concat/split_2/split_dim' with dtype int32\n",
      "\t [[{{node gradients/split_2_grad/concat/split_2/split_dim}}]]\n",
      "2024-01-03 17:15:27.212610: I tensorflow/core/common_runtime/executor.cc:1197] [/device:CPU:0] (DEBUG INFO) Executor start aborting (this does not indicate an error and you can ignore this message): INVALID_ARGUMENT: You must feed a value for placeholder tensor 'gradients/split_grad/concat/split/split_dim' with dtype int32\n",
      "\t [[{{node gradients/split_grad/concat/split/split_dim}}]]\n",
      "2024-01-03 17:15:27.213349: I tensorflow/core/common_runtime/executor.cc:1197] [/device:CPU:0] (DEBUG INFO) Executor start aborting (this does not indicate an error and you can ignore this message): INVALID_ARGUMENT: You must feed a value for placeholder tensor 'gradients/split_1_grad/concat/split_1/split_dim' with dtype int32\n",
      "\t [[{{node gradients/split_1_grad/concat/split_1/split_dim}}]]\n"
     ]
    },
    {
     "name": "stdout",
     "output_type": "stream",
     "text": [
      "34/34 [==============================] - 0s 3ms/step - loss: 0.0074 - val_loss: 0.0055\n",
      "Epoch 4/51\n",
      "34/34 [==============================] - 0s 3ms/step - loss: 0.0046 - val_loss: 0.0037\n",
      "Epoch 5/51\n",
      "34/34 [==============================] - 0s 3ms/step - loss: 0.0044 - val_loss: 0.0038\n",
      "Epoch 6/51\n",
      "34/34 [==============================] - 0s 3ms/step - loss: 0.0055 - val_loss: 0.0036\n",
      "Epoch 7/51\n",
      "34/34 [==============================] - 0s 3ms/step - loss: 0.0040 - val_loss: 0.0034\n",
      "Epoch 8/51\n",
      "34/34 [==============================] - 0s 3ms/step - loss: 0.0034 - val_loss: 0.0033\n",
      "Epoch 9/51\n",
      "34/34 [==============================] - 0s 3ms/step - loss: 0.0035 - val_loss: 0.0034\n",
      "Epoch 10/51\n",
      "34/34 [==============================] - 0s 3ms/step - loss: 0.0033 - val_loss: 0.0033\n",
      "Epoch 11/51\n",
      "34/34 [==============================] - 0s 3ms/step - loss: 0.0033 - val_loss: 0.0034\n",
      "Epoch 12/51\n",
      "34/34 [==============================] - 0s 3ms/step - loss: 0.0032 - val_loss: 0.0032\n",
      "Epoch 13/51\n",
      "34/34 [==============================] - 0s 3ms/step - loss: 0.0031 - val_loss: 0.0031\n",
      "Epoch 14/51\n",
      "34/34 [==============================] - 0s 3ms/step - loss: 0.0042 - val_loss: 0.0030\n",
      "Epoch 15/51\n",
      "34/34 [==============================] - 0s 3ms/step - loss: 0.0030 - val_loss: 0.0035\n",
      "Epoch 16/51\n",
      "34/34 [==============================] - 0s 3ms/step - loss: 0.0029 - val_loss: 0.0037\n",
      "Epoch 17/51\n",
      "34/34 [==============================] - 0s 3ms/step - loss: 0.0030 - val_loss: 0.0030\n",
      "Epoch 18/51\n",
      "34/34 [==============================] - 0s 3ms/step - loss: 0.0028 - val_loss: 0.0030\n",
      "Epoch 19/51\n",
      "34/34 [==============================] - 0s 3ms/step - loss: 0.0027 - val_loss: 0.0033\n",
      "Epoch 20/51\n",
      "34/34 [==============================] - 0s 3ms/step - loss: 0.0027 - val_loss: 0.0034\n",
      "Epoch 21/51\n",
      "34/34 [==============================] - 0s 3ms/step - loss: 0.0028 - val_loss: 0.0031\n",
      "Epoch 22/51\n",
      "34/34 [==============================] - 0s 3ms/step - loss: 0.0028 - val_loss: 0.0037\n",
      "Epoch 23/51\n",
      "34/34 [==============================] - 0s 3ms/step - loss: 0.0027 - val_loss: 0.0026\n",
      "Epoch 24/51\n",
      "34/34 [==============================] - 0s 3ms/step - loss: 0.0027 - val_loss: 0.0031\n",
      "Epoch 25/51\n",
      "34/34 [==============================] - 0s 3ms/step - loss: 0.0027 - val_loss: 0.0025\n",
      "Epoch 26/51\n",
      "34/34 [==============================] - 0s 3ms/step - loss: 0.0027 - val_loss: 0.0030\n",
      "Epoch 27/51\n",
      "34/34 [==============================] - 0s 3ms/step - loss: 0.0025 - val_loss: 0.0027\n",
      "Epoch 28/51\n",
      "34/34 [==============================] - 0s 3ms/step - loss: 0.0027 - val_loss: 0.0035\n",
      "Epoch 29/51\n",
      "34/34 [==============================] - 0s 3ms/step - loss: 0.0029 - val_loss: 0.0039\n",
      "Epoch 30/51\n",
      "34/34 [==============================] - 0s 3ms/step - loss: 0.0024 - val_loss: 0.0026\n",
      "Epoch 31/51\n",
      "34/34 [==============================] - 0s 3ms/step - loss: 0.0025 - val_loss: 0.0023\n",
      "Epoch 32/51\n",
      "34/34 [==============================] - 0s 3ms/step - loss: 0.0031 - val_loss: 0.0026\n",
      "Epoch 33/51\n",
      "34/34 [==============================] - 0s 3ms/step - loss: 0.0024 - val_loss: 0.0025\n",
      "Epoch 34/51\n",
      "34/34 [==============================] - 0s 3ms/step - loss: 0.0023 - val_loss: 0.0030\n",
      "Epoch 35/51\n",
      "34/34 [==============================] - 0s 3ms/step - loss: 0.0025 - val_loss: 0.0023\n",
      "Epoch 36/51\n",
      "34/34 [==============================] - 0s 3ms/step - loss: 0.0027 - val_loss: 0.0022\n",
      "Epoch 37/51\n",
      "34/34 [==============================] - 0s 3ms/step - loss: 0.0026 - val_loss: 0.0027\n",
      "Epoch 38/51\n",
      "34/34 [==============================] - 0s 3ms/step - loss: 0.0022 - val_loss: 0.0024\n",
      "Epoch 39/51\n",
      "34/34 [==============================] - 0s 3ms/step - loss: 0.0023 - val_loss: 0.0027\n",
      "Epoch 40/51\n",
      "34/34 [==============================] - 0s 3ms/step - loss: 0.0023 - val_loss: 0.0021\n",
      "Epoch 41/51\n",
      "34/34 [==============================] - 0s 3ms/step - loss: 0.0022 - val_loss: 0.0023\n",
      "Epoch 42/51\n",
      "34/34 [==============================] - 0s 3ms/step - loss: 0.0025 - val_loss: 0.0021\n",
      "Epoch 43/51\n",
      "34/34 [==============================] - 0s 3ms/step - loss: 0.0023 - val_loss: 0.0022\n",
      "Epoch 44/51\n",
      "34/34 [==============================] - 0s 3ms/step - loss: 0.0022 - val_loss: 0.0027\n",
      "Epoch 45/51\n",
      "34/34 [==============================] - 0s 3ms/step - loss: 0.0023 - val_loss: 0.0021\n",
      "Epoch 46/51\n",
      "34/34 [==============================] - 0s 3ms/step - loss: 0.0023 - val_loss: 0.0020\n",
      "Epoch 47/51\n",
      "34/34 [==============================] - 0s 3ms/step - loss: 0.0022 - val_loss: 0.0028\n",
      "Epoch 48/51\n",
      "34/34 [==============================] - 0s 3ms/step - loss: 0.0022 - val_loss: 0.0022\n",
      "Epoch 49/51\n",
      "34/34 [==============================] - 0s 3ms/step - loss: 0.0022 - val_loss: 0.0024\n",
      "Epoch 50/51\n",
      "34/34 [==============================] - 0s 3ms/step - loss: 0.0021 - val_loss: 0.0022\n",
      "Epoch 51/51\n",
      "34/34 [==============================] - 0s 3ms/step - loss: 0.0021 - val_loss: 0.0023\n",
      "7/7 [==============================] - 0s 1ms/step\n",
      "RMSE: \n",
      "36.82014230636881\n"
     ]
    },
    {
     "name": "stderr",
     "output_type": "stream",
     "text": [
      "2024-01-03 17:15:33.043043: I tensorflow/core/common_runtime/executor.cc:1197] [/device:CPU:0] (DEBUG INFO) Executor start aborting (this does not indicate an error and you can ignore this message): INVALID_ARGUMENT: You must feed a value for placeholder tensor 'gradients/split_2_grad/concat/split_2/split_dim' with dtype int32\n",
      "\t [[{{node gradients/split_2_grad/concat/split_2/split_dim}}]]\n",
      "2024-01-03 17:15:33.043536: I tensorflow/core/common_runtime/executor.cc:1197] [/device:CPU:0] (DEBUG INFO) Executor start aborting (this does not indicate an error and you can ignore this message): INVALID_ARGUMENT: You must feed a value for placeholder tensor 'gradients/split_grad/concat/split/split_dim' with dtype int32\n",
      "\t [[{{node gradients/split_grad/concat/split/split_dim}}]]\n",
      "2024-01-03 17:15:33.043984: I tensorflow/core/common_runtime/executor.cc:1197] [/device:CPU:0] (DEBUG INFO) Executor start aborting (this does not indicate an error and you can ignore this message): INVALID_ARGUMENT: You must feed a value for placeholder tensor 'gradients/split_1_grad/concat/split_1/split_dim' with dtype int32\n",
      "\t [[{{node gradients/split_1_grad/concat/split_1/split_dim}}]]\n"
     ]
    },
    {
     "data": {
      "text/plain": "<Figure size 1200x800 with 1 Axes>",
      "image/png": "[encoded data removed]"
     },
     "metadata": {},
     "output_type": "display_data"
    }
   ],
   "source": [
    "if __name__ == \"__main__\":\n",
    "    #start_date = datetime(2013, 12, 20)\n",
    "    #end_date = datetime(2023, 12, 20)\n",
    "    \n",
    "    train_split = 0.7\n",
    "    \n",
    "    history_points = 30\n",
    "    \n",
    "    new_df = obv(goog)\n",
    "\n",
    "    new_df = add_technical_indicators(new_df)\n",
    "    \n",
    "    x_train, y_train, x_test, y_test, y_reverse_normaliser = train_test_split_preparation(new_df, train_split)\n",
    "\n",
    "    model = lstm_model(x_train, y_train, history_points)\n",
    "\n",
    "    y_pred = model.predict(x_test)\n",
    "    y_pred = y_reverse_normaliser.inverse_transform(y_pred)\n",
    "\n",
    "    real = plt.plot(y_test, label='Actual Price')\n",
    "    pred = plt.plot(y_pred, label='Predicted Price')\n",
    "\n",
    "    plt.gcf().set_size_inches(12, 8, forward=True)\n",
    "    plt.title('Plot of real price and predicted price against number of days')\n",
    "    plt.xlabel('Number of days')\n",
    "    plt.ylabel('Adjusted Close Price($)')\n",
    "\n",
    "    plt.legend(['Actual Price', 'Predicted Price'])\n",
    "    \n",
    "    print(\"RMSE: \")\n",
    "    print(mean_squared_error(y_test, y_pred))\n",
    " \n",
    "    plt.show() "
   ],
   "metadata": {
    "collapsed": false,
    "ExecuteTime": {
     "end_time": "2024-01-03T16:15:33.214009Z",
     "start_time": "2024-01-03T16:15:26.198243Z"
    }
   },
   "id": "a15395926bdf7362"
  },
  {
   "cell_type": "code",
   "execution_count": 393,
   "outputs": [
    {
     "name": "stdout",
     "output_type": "stream",
     "text": [
      "1/1 [==============================] - 0s 8ms/step\n",
      "138.10000610351562\n",
      "Predicted stock price for 2023-12-20: 115.91653\n"
     ]
    },
    {
     "name": "stderr",
     "output_type": "stream",
     "text": [
      "/Users/lennartmuller/anaconda3/lib/python3.11/site-packages/sklearn/utils/validation.py:767: FutureWarning: is_sparse is deprecated and will be removed in a future version. Check `isinstance(dtype, pd.SparseDtype)` instead.\n",
      "  if not hasattr(array, \"sparse\") and array.dtypes.apply(is_sparse).any():\n",
      "/Users/lennartmuller/anaconda3/lib/python3.11/site-packages/sklearn/utils/validation.py:605: FutureWarning: is_sparse is deprecated and will be removed in a future version. Check `isinstance(dtype, pd.SparseDtype)` instead.\n",
      "  if is_sparse(pd_dtype):\n",
      "/Users/lennartmuller/anaconda3/lib/python3.11/site-packages/sklearn/utils/validation.py:614: FutureWarning: is_sparse is deprecated and will be removed in a future version. Check `isinstance(dtype, pd.SparseDtype)` instead.\n",
      "  if is_sparse(pd_dtype) or not is_extension_array_dtype(pd_dtype):\n",
      "/Users/lennartmuller/anaconda3/lib/python3.11/site-packages/sklearn/utils/validation.py:767: FutureWarning: is_sparse is deprecated and will be removed in a future version. Check `isinstance(dtype, pd.SparseDtype)` instead.\n",
      "  if not hasattr(array, \"sparse\") and array.dtypes.apply(is_sparse).any():\n",
      "/Users/lennartmuller/anaconda3/lib/python3.11/site-packages/sklearn/utils/validation.py:605: FutureWarning: is_sparse is deprecated and will be removed in a future version. Check `isinstance(dtype, pd.SparseDtype)` instead.\n",
      "  if is_sparse(pd_dtype):\n",
      "/Users/lennartmuller/anaconda3/lib/python3.11/site-packages/sklearn/utils/validation.py:614: FutureWarning: is_sparse is deprecated and will be removed in a future version. Check `isinstance(dtype, pd.SparseDtype)` instead.\n",
      "  if is_sparse(pd_dtype) or not is_extension_array_dtype(pd_dtype):\n"
     ]
    }
   ],
   "source": [
    "# Extract the last 'history_points' days of data\n",
    "last_days = goog[-history_points:]\n",
    "\n",
    "# Normalize the Input Data --> Same transformations as with the training data\n",
    "normaliser = MinMaxScaler()\n",
    "last_days_scaled = normaliser.fit_transform(last_days)\n",
    "\n",
    "# Reshape the data to match the input shape of the LSTM model\n",
    "x_to_predict = np.array([last_days_scaled])\n",
    "x_to_predict = np.reshape(x_to_predict, (1, history_points, 6))\n",
    "\n",
    "# Make the Prediction\n",
    "predicted_stock_price = model.predict(x_to_predict)\n",
    "\n",
    "# Inverse Transform the Prediction\n",
    "predicted_stock_price = y_reverse_normaliser.inverse_transform(predicted_stock_price)\n",
    "\n",
    "# Print the predicted stock price\n",
    "print(goog.loc['2023-12-19', 'Adj Close'])\n",
    "print(\"Predicted stock price for 2023-12-20:\", predicted_stock_price[0,0])"
   ],
   "metadata": {
    "collapsed": false,
    "ExecuteTime": {
     "end_time": "2024-01-03T16:15:41.841481Z",
     "start_time": "2024-01-03T16:15:41.816892Z"
    }
   },
   "id": "97bdba15b3939062"
  },
  {
   "cell_type": "code",
   "execution_count": null,
   "outputs": [],
   "source": [],
   "metadata": {
    "collapsed": false
   },
   "id": "c865db27907939f3"
  }
 ],
 "metadata": {
  "kernelspec": {
   "display_name": "Python 3",
   "language": "python",
   "name": "python3"
  },
  "language_info": {
   "codemirror_mode": {
    "name": "ipython",
    "version": 2
   },
   "file_extension": ".py",
   "mimetype": "text/x-python",
   "name": "python",
   "nbconvert_exporter": "python",
   "pygments_lexer": "ipython2",
   "version": "2.7.6"
  }
 },
 "nbformat": 4,
 "nbformat_minor": 5
}
